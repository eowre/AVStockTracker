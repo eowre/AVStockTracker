{
 "cells": [
  {
   "cell_type": "markdown",
   "id": "2c14f8e4",
   "metadata": {},
   "source": [
    "# Demostration of the stock fetcher and the storage helper functions."
   ]
  },
  {
   "cell_type": "code",
   "execution_count": null,
   "id": "52ac7a62",
   "metadata": {},
   "outputs": [],
   "source": [
    "# Neccesary imports\n",
    "import os\n",
    "from dotenv import load_dotenv\n",
    "import sys\n",
    "sys.path.append(os.path.abspath('..'))  # Add the parent directory to the Python path\n",
    "from scripts.handlers.stockHandler import AVStockDataHandler\n",
    "from scripts.handlers.storageHandler import storageHandler\n",
    "from scripts.handlers.SQLHandler import SQLHandler\n",
    "\n",
    "# Load environment variables\n",
    "load_dotenv('../config.env')\n",
    "\n",
    "# Get the API key from environment variables\n",
    "API_KEY = os.getenv(\"ALPHA_VANTAGE_API_KEY\")\n",
    "if API_KEY is None:\n",
    "    raise ValueError(\"API key not found. Please set the ALPHA_VANTAGE_API_KEY environment variable.\")"
   ]
  },
  {
   "cell_type": "code",
   "execution_count": null,
   "id": "5a671aff",
   "metadata": {},
   "outputs": [
    {
     "name": "stdout",
     "output_type": "stream",
     "text": [
      "Fetching data for AAPL...\n"
     ]
    },
    {
     "name": "stderr",
     "output_type": "stream",
     "text": [
      "/home/eowre/Documents/DataEngineering/AVStockTracker/scripts/handlers/stockHandler.py:41: SettingWithCopyWarning: \n",
      "A value is trying to be set on a copy of a slice from a DataFrame\n",
      "\n",
      "See the caveats in the documentation: https://pandas.pydata.org/pandas-docs/stable/user_guide/indexing.html#returning-a-view-versus-a-copy\n",
      "  filtered_data.rename(columns={\n"
     ]
    },
    {
     "name": "stdout",
     "output_type": "stream",
     "text": [
      "Fetching data for MSFT...\n"
     ]
    },
    {
     "name": "stderr",
     "output_type": "stream",
     "text": [
      "/home/eowre/Documents/DataEngineering/AVStockTracker/scripts/handlers/stockHandler.py:41: SettingWithCopyWarning: \n",
      "A value is trying to be set on a copy of a slice from a DataFrame\n",
      "\n",
      "See the caveats in the documentation: https://pandas.pydata.org/pandas-docs/stable/user_guide/indexing.html#returning-a-view-versus-a-copy\n",
      "  filtered_data.rename(columns={\n"
     ]
    },
    {
     "name": "stdout",
     "output_type": "stream",
     "text": [
      "Fetching data for GOOGL...\n"
     ]
    },
    {
     "name": "stderr",
     "output_type": "stream",
     "text": [
      "/home/eowre/Documents/DataEngineering/AVStockTracker/scripts/handlers/stockHandler.py:41: SettingWithCopyWarning: \n",
      "A value is trying to be set on a copy of a slice from a DataFrame\n",
      "\n",
      "See the caveats in the documentation: https://pandas.pydata.org/pandas-docs/stable/user_guide/indexing.html#returning-a-view-versus-a-copy\n",
      "  filtered_data.rename(columns={\n"
     ]
    },
    {
     "name": "stdout",
     "output_type": "stream",
     "text": [
      "Fetching data for AMZN...\n"
     ]
    },
    {
     "name": "stderr",
     "output_type": "stream",
     "text": [
      "/home/eowre/Documents/DataEngineering/AVStockTracker/scripts/handlers/stockHandler.py:41: SettingWithCopyWarning: \n",
      "A value is trying to be set on a copy of a slice from a DataFrame\n",
      "\n",
      "See the caveats in the documentation: https://pandas.pydata.org/pandas-docs/stable/user_guide/indexing.html#returning-a-view-versus-a-copy\n",
      "  filtered_data.rename(columns={\n"
     ]
    },
    {
     "name": "stdout",
     "output_type": "stream",
     "text": [
      "Fetching data for TSLA...\n",
      "No new metadata to add.\n",
      "Data fetching and storage completed successfully.\n"
     ]
    },
    {
     "name": "stderr",
     "output_type": "stream",
     "text": [
      "/home/eowre/Documents/DataEngineering/AVStockTracker/scripts/handlers/stockHandler.py:41: SettingWithCopyWarning: \n",
      "A value is trying to be set on a copy of a slice from a DataFrame\n",
      "\n",
      "See the caveats in the documentation: https://pandas.pydata.org/pandas-docs/stable/user_guide/indexing.html#returning-a-view-versus-a-copy\n",
      "  filtered_data.rename(columns={\n"
     ]
    }
   ],
   "source": [
    "# Tickers to fetch data for\n",
    "tickers = ['AAPL'] #, 'MSFT', 'GOOGL', 'AMZN', 'TSLA'\n",
    "\n",
    "# Date range for fetching data\n",
    "start_date = '2025-01-01'\n",
    "end_date = '2025-05-01'\n",
    "\n",
    "# Initialize the stock data fetcher\n",
    "handler = AVStockDataHandler(API_KEY)\n",
    "\n",
    "# Fetch the data\n",
    "ticker_data = handler.fetch_multiple_tickers(tickers, start_date, end_date)\n",
    "\n",
    "# Initialize the storage handler\n",
    "storage = storageHandler()\n",
    "storage.multiple_dfs_to_csv_and_json(ticker_data)\n",
    "\n",
    "SQL_handler = SQLHandler()\n",
    "SQL_handler\n",
    "\n",
    "print(\"Data fetching and storage completed successfully.\")"
   ]
  }
 ],
 "metadata": {
  "kernelspec": {
   "display_name": "venv",
   "language": "python",
   "name": "python3"
  },
  "language_info": {
   "codemirror_mode": {
    "name": "ipython",
    "version": 3
   },
   "file_extension": ".py",
   "mimetype": "text/x-python",
   "name": "python",
   "nbconvert_exporter": "python",
   "pygments_lexer": "ipython3",
   "version": "3.13.3"
  }
 },
 "nbformat": 4,
 "nbformat_minor": 5
}
