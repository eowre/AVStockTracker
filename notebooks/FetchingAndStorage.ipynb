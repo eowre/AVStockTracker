{
 "cells": [
  {
   "cell_type": "markdown",
   "id": "2c14f8e4",
   "metadata": {},
   "source": [
    "# Stock fetching, Cleaning, and Storage\n",
    "#### This notebook is going to:\n",
    "\n",
    "###### Fetch 3 non consecutive 2 month slices of Stock data for 2 companies from the year 2024, this example will use APPLE and Amazon\n",
    "###### Each of these months will be proccessed differently\n",
    "###### The first month will be written directly to a SQL table\n",
    "###### The second month will be written to a JSON file\n",
    "###### The third month will be written to a CSV file\n",
    "\n",
    "###### We will then load and randomly scramble each of the APPLE files before appending them the SQL table\n",
    "\n",
    "###### Finally we are going to build a dataframe from the SQL table, determine the missing months, make the appropriate API calls to retrieve the missing months, complete the data frame and update the SQL table"
   ]
  },
  {
   "cell_type": "markdown",
   "id": "bf5c780e",
   "metadata": {},
   "source": [
    "### Imports & Environment Variables"
   ]
  },
  {
   "cell_type": "code",
   "execution_count": 1,
   "id": "52ac7a62",
   "metadata": {},
   "outputs": [],
   "source": [
    "import sys\n",
    "import os\n",
    "from pathlib import Path\n",
    "from dotenv import load_dotenv\n",
    "import pandas as pd\n",
    "\n",
    "sys.path.append(os.path.abspath('..'))\n",
    "# Import handlers\n",
    "from scripts.handlers.stockHandler import AVStockDataHandler\n",
    "from scripts.handlers.storageHandler import storageHandler\n",
    "from scripts.handlers.helperHandler import helperHandler\n",
    "from scripts.handlers.scrambleHandler import scrambleHandler\n",
    "from scripts.handlers.SQLHandler import SQLHandler\n",
    "from scripts.handlers.cleaningHandler import cleaningHandler\n",
    "\n",
    "# Load environment variables\n",
    "load_dotenv('../config.env')\n",
    "\n",
    "# Retrieve the API key and DB_PATH from the environment variables\n",
    "API_KEY = os.getenv(\"ALPHA_VANTAGE_API_KEY\")\n",
    "DB_PATH = os.getenv(\"DB_PATH\")\n",
    "project_root = Path(sys.path[-1])\n",
    "DB_PATH = project_root / DB_PATH\n",
    "\n",
    "# Raise an error if the API key or DB_PATH is not found\n",
    "if not API_KEY:\n",
    "    raise ValueError(\"API key not found. Please set the ALPHA_VANTAGE_API_KEY in config.env.\")\n",
    "\n",
    "if not DB_PATH:\n",
    "    raise ValueError(\"Database path not found. Please set the DB_PATH in config.env.\")"
   ]
  },
  {
   "cell_type": "markdown",
   "id": "d2997838",
   "metadata": {},
   "source": [
    "### Handlers, Tickers, And Date Ranges"
   ]
  },
  {
   "cell_type": "code",
   "execution_count": 2,
   "id": "8e7a8b39",
   "metadata": {},
   "outputs": [
    {
     "name": "stdout",
     "output_type": "stream",
     "text": [
      "Database created at: /home/eowre/Documents/DataEngineering/AVStockTracker/SQL_data/stock_data.db\n"
     ]
    }
   ],
   "source": [
    "# Initialize the handlers\n",
    "stock_handler = AVStockDataHandler(API_KEY)\n",
    "storage_handler = storageHandler()\n",
    "SQL_handler = SQLHandler(DB_PATH)\n",
    "scramble_handler = scrambleHandler()\n",
    "helper_handler = helperHandler()\n",
    "cleaning_handler = cleaningHandler()\n",
    "\n",
    "# Tickers to fetch data for\n",
    "tickers = ['AAPL', 'AMZN']\n",
    "\n",
    "# Date range for fetching data\n",
    "date_ranges = [\n",
    "    ('2024-01-01', '2024-02-29'),\n",
    "    ('2024-05-01', '2024-06-30'),\n",
    "    ('2024-09-01', '2024-10-31')\n",
    "]"
   ]
  },
  {
   "cell_type": "markdown",
   "id": "309a031e",
   "metadata": {},
   "source": [
    "### Fetching and Storing ticker data"
   ]
  },
  {
   "cell_type": "code",
   "execution_count": 3,
   "id": "5a671aff",
   "metadata": {},
   "outputs": [
    {
     "name": "stdout",
     "output_type": "stream",
     "text": [
      "Fetching full data for AAPL...\n",
      "Fetching full data for AMZN...\n",
      "/home/eowre/Documents/DataEngineering/AVStockTracker/SQL_data/stock_data.db\n",
      "DataFrame saved to table: AAPL\n",
      "/home/eowre/Documents/DataEngineering/AVStockTracker/SQL_data/stock_data.db\n",
      "DataFrame saved to table: AMZN\n",
      "No new metadata to add.\n",
      "No new metadata to add.\n"
     ]
    }
   ],
   "source": [
    "\n",
    "# Fetch the data, \n",
    "sliced_ticker_data = stock_handler.fetch_multiple_tickers(tickers, date_ranges)\n",
    "\n",
    "# Using heloperHandler to slice the data and create sets\n",
    "sets = helper_handler.create_sets(sliced_ticker_data, date_ranges)\n",
    "\n",
    "SQL_handler.save_dfs_to_table(sets[0])\n",
    "storage_handler.multiple_dfs_to_csv_and_json(sets[1], file_type='csv')\n",
    "storage_handler.multiple_dfs_to_csv_and_json(sets[2], file_type='json')"
   ]
  },
  {
   "cell_type": "markdown",
   "id": "4a3e4040",
   "metadata": {},
   "source": [
    "### File Retrieval"
   ]
  },
  {
   "cell_type": "code",
   "execution_count": 4,
   "id": "07b7d02d",
   "metadata": {},
   "outputs": [
    {
     "name": "stdout",
     "output_type": "stream",
     "text": [
      "Found 2 files matching the pattern '.*AAPL.*\\.(csv|json)$' in 'raw_data' directory.\n"
     ]
    }
   ],
   "source": [
    "# Define regex patterns for locating AAPL csv and json files\n",
    "AAPL_pattern = r\".*AAPL.*\\.(csv|json)$\" # Matches any CSV file starting with \"AAPL\"\n",
    "\n",
    "# Use the helper handler to locate files matching the patterns\n",
    "aapl_files = helper_handler.find_files(str(project_root / \"raw_data\"), AAPL_pattern)\n",
    "print(f\"Found {len(aapl_files)} files matching the pattern '{AAPL_pattern}' in 'raw_data' directory.\")\n",
    "# Build dataframes from the located files\n",
    "aapl_dfs = []\n",
    "for file in aapl_files:\n",
    "    df = storage_handler.df_builder(file)\n",
    "    df.reset_index(inplace=True)\n",
    "    aapl_dfs.append(df)\n",
    "# Concatenate the dataframes into a single dataframe\n",
    "aapl_df = pd.concat(aapl_dfs)"
   ]
  },
  {
   "cell_type": "markdown",
   "id": "cc407ca0",
   "metadata": {},
   "source": [
    "### Scrambling data\n",
    "\n",
    "###### NOTE: This scramble method can return a new object but the operations are performed in place on the df"
   ]
  },
  {
   "cell_type": "code",
   "execution_count": 5,
   "id": "b8edbebe",
   "metadata": {},
   "outputs": [
    {
     "name": "stdout",
     "output_type": "stream",
     "text": [
      "         date     open     high     low   close       volume\n",
      "0  2024-05-01  169.580  172.705  169.11  169.30   50383147.0\n",
      "1  2024-05-02  172.510  173.415  170.89  173.03   94214915.0\n",
      "2  2024-05-03  186.645  187.000  182.66  183.38  163224109.0\n",
      "3  2024-05-06  182.354  184.200  180.42  181.71   78569667.0\n",
      "4  2024-05-07  183.450  184.900  181.32  182.40   77305771.0\n",
      "..        ...      ...      ...     ...     ...          ...\n",
      "38 2024-10-25  229.740  233.220  229.57  231.41   38802304.0\n",
      "39 2024-10-28  233.320  234.730  232.55  233.40   36087134.0\n",
      "40 2024-10-29  233.100  234.325  232.32  233.67   35417247.0\n",
      "41 2024-10-30  232.610  233.470  229.55  230.10   47070907.0\n",
      "42 2024-10-31  229.340  229.830  225.37  225.91   64370086.0\n",
      "\n",
      "[84 rows x 6 columns]\n",
      "                date        open        high         low       close  \\\n",
      "0         2024-05-01      169.58     172.705  169.11 USD       169.3   \n",
      "1         2024-05-02  USD 172.51  USD 173.41     170.89$      173.03   \n",
      "2         05/03/2024     $186.65  USD 187.00     $182.66  USD 183.38   \n",
      "3        06 May 2024     182.354  USD 184.20  180.42 USD      181.71   \n",
      "4       May 07, 2024  183.45 USD     184.90$     181.32$     182.40$   \n",
      "..               ...         ...         ...         ...         ...   \n",
      "38       25 Oct 2024      229.74  233.22 USD  229.57 USD  231.41 USD   \n",
      "39  October 28, 2024      233.32  234.73 USD  USD 232.55       233.4   \n",
      "40  October 29, 2024       233.1     234.32$  USD 232.32  USD 233.67   \n",
      "41        30-10-2024  USD 232.61     $233.47      229.55  230.10 USD   \n",
      "42        31-10-2024      229.34     229.83$     225.37$      225.91   \n",
      "\n",
      "         volume  \n",
      "0    50383147.0  \n",
      "1    94214915.0  \n",
      "2   163224109.0  \n",
      "3    78569667.0  \n",
      "4    77305771.0  \n",
      "..          ...  \n",
      "38   38802304.0  \n",
      "39   36087134.0  \n",
      "40   35417247.0  \n",
      "41   47070907.0  \n",
      "42   64370086.0  \n",
      "\n",
      "[84 rows x 6 columns]\n"
     ]
    }
   ],
   "source": [
    "# Print the concatenated dataframe\n",
    "print(aapl_df)\n",
    "\n",
    "# Scramble the data\n",
    "scramble_handler.scramble_df(aapl_df)\n",
    "\n",
    "# Print the scrambled dataframe\n",
    "print(aapl_df)\n"
   ]
  },
  {
   "cell_type": "markdown",
   "id": "991df6fc",
   "metadata": {},
   "source": [
    "### Cleaning the scrambled data And saving to SQL table\n",
    "\n",
    "###### Simple methdo to clean the data by using a set list of common date and currency formats"
   ]
  },
  {
   "cell_type": "code",
   "execution_count": 6,
   "id": "6ada3fae",
   "metadata": {},
   "outputs": [
    {
     "name": "stdout",
     "output_type": "stream",
     "text": [
      "               open     high      low    close       volume\n",
      "date                                                       \n",
      "2024-05-01  169.580  172.705  169.110  169.300   50383147.0\n",
      "2024-05-02  172.510  173.410  170.890  173.030   94214915.0\n",
      "2024-05-03  186.650  187.000  182.660  183.380  163224109.0\n",
      "2024-05-06  182.354  184.200  180.420  181.710   78569667.0\n",
      "2024-05-07  183.450  184.900  181.320  182.400   77305771.0\n",
      "...             ...      ...      ...      ...          ...\n",
      "2024-10-25  211.500  214.860  210.640  213.250   38802304.0\n",
      "2024-10-28  214.690  215.739  212.350  214.100   36087134.0\n",
      "2024-10-29  215.770  216.070  210.300  210.620   35417247.0\n",
      "2024-10-30  232.610  233.470  229.550  230.100   47070907.0\n",
      "2024-10-31  229.340  229.830  225.370  225.910   64370086.0\n",
      "\n",
      "[84 rows x 5 columns]\n",
      "/home/eowre/Documents/DataEngineering/AVStockTracker/SQL_data/stock_data.db\n"
     ]
    }
   ],
   "source": [
    "cleaning_handler.clean_data(aapl_df)\n",
    "\n",
    "# Set index to 'date' and sort the dataframe\n",
    "aapl_df.set_index('date', inplace=True)\n",
    "aapl_df.sort_index(inplace=True)\n",
    "\n",
    "# Print the cleaned dataframe\n",
    "print(aapl_df)\n",
    "\n",
    "SQL_handler.save_df_to_table(aapl_df, tickers[0])"
   ]
  }
 ],
 "metadata": {
  "kernelspec": {
   "display_name": "venv",
   "language": "python",
   "name": "python3"
  },
  "language_info": {
   "codemirror_mode": {
    "name": "ipython",
    "version": 3
   },
   "file_extension": ".py",
   "mimetype": "text/x-python",
   "name": "python",
   "nbconvert_exporter": "python",
   "pygments_lexer": "ipython3",
   "version": "3.13.3"
  }
 },
 "nbformat": 4,
 "nbformat_minor": 5
}
