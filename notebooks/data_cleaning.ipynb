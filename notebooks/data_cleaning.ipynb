{
 "cells": [
  {
   "cell_type": "markdown",
   "id": "1e879e74",
   "metadata": {},
   "source": [
    "Notebook to demonstrate the Normalization and Validation"
   ]
  },
  {
   "cell_type": "code",
   "execution_count": null,
   "id": "3218659f",
   "metadata": {},
   "outputs": [],
   "source": [
    "#TODO\n",
    "\n",
    "\"\"\"\n",
    "This is a configuration file for the script.\n",
    "It contains the following sections:\n",
    "1. Imports: List of required libraries and modules.\n",
    "2. Configurations: Settings and parameters for the script.\n",
    "3. Variables: Global variables used throughout the script.\n",
    "4. Functions: Function definitions for the script's functionality.\n",
    "\"\"\""
   ]
  },
  {
   "cell_type": "code",
   "execution_count": null,
   "id": "185c53cf",
   "metadata": {},
   "outputs": [],
   "source": [
    "# Imports\n"
   ]
  },
  {
   "cell_type": "code",
   "execution_count": null,
   "id": "8e32a7ff",
   "metadata": {},
   "outputs": [],
   "source": [
    "# Configurations"
   ]
  },
  {
   "cell_type": "code",
   "execution_count": null,
   "id": "3ae18441",
   "metadata": {},
   "outputs": [],
   "source": [
    "# Variables"
   ]
  },
  {
   "cell_type": "code",
   "execution_count": null,
   "id": "e4071a1f",
   "metadata": {},
   "outputs": [],
   "source": [
    "# Fucntions\n",
    "\"\"\"\n",
    "    Implement one ingesting method, use overlaoding to implement\n",
    "    Implement one exporting method, use overlaoding to implement\n",
    "\"\"\"\n",
    "# Implent CSV -> SQLite3\n",
    "# Implent SQLite3 -> CSV\n",
    "# Implent JSON -> SQLite3\n",
    "# Implent SQLite3 -> JSON\n",
    "\n",
    "\"\"\"\n",
    "    # Implent \"scrabbling\" method, either by using a library or implementing it from scratch.\n",
    "        # Use a library like `cryptography` or `hashlib` for hashing.\n",
    "        # Implement a custom scrabbling algorithm if needed.\n",
    "        \n",
    "\n",
    "    # Implent \"unscrabbling\" method, either by using a library or implementing it from scratch.\n",
    "        # Use a library like `cryptography` or `hashlib` for hashing.\n",
    "        # Implement a custom unscrabbling algorithm if needed.\n",
    "\"\"\"\n",
    "\n"
   ]
  }
 ],
 "metadata": {
  "language_info": {
   "name": "python"
  }
 },
 "nbformat": 4,
 "nbformat_minor": 5
}
